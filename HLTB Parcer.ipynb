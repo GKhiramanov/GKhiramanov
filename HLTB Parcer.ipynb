{
 "cells": [
  {
   "cell_type": "code",
   "execution_count": 2,
   "id": "7ea01a6e",
   "metadata": {},
   "outputs": [],
   "source": [
    "import requests\n",
    "import psycopg2\n",
    "import datetime\n",
    "import aiohttp\n",
    "import asyncio\n",
    "from time import sleep\n",
    "import nest_asyncio\n",
    "nest_asyncio.apply()"
   ]
  },
  {
   "cell_type": "code",
   "execution_count": 3,
   "id": "9a04e875",
   "metadata": {},
   "outputs": [],
   "source": [
    "#This Class contains all main functions\n",
    "class Common:\n",
    "    #Protection from SQL injections \n",
    "    def SqlEncode(value):\n",
    "        return \"'\" + str(value).replace( \"'\", \"''\" ) + \"'\"\n",
    "    \n",
    "    #Executing DML queries\n",
    "    def SqlExecuteNonQuery(sql):\n",
    "        conn = psycopg2.connect(\n",
    "            database = \"airflow\"\n",
    "            , user = \"airflow\"\n",
    "            , password = \"airflow\"\n",
    "            , host = \"localhost\"\n",
    "            , port = \"5432\"\n",
    "        )\n",
    "        \n",
    "        cursor = conn.cursor()\n",
    "        cursor.execute(sql)\n",
    "        conn.commit()\n",
    "        cursor.close()\n",
    "        conn.close()\n",
    "        \n",
    "        "
   ]
  },
  {
   "cell_type": "code",
   "execution_count": 6,
   "id": "dc03d4da",
   "metadata": {},
   "outputs": [],
   "source": [
    "async def fetch(c, url):\n",
    "    tt = 2\n",
    "    headers = {\n",
    "        'User-Agent': 'Other'\n",
    "      }\n",
    "    while True:\n",
    "        #print(url['url'])\n",
    "        response = await c.get(url['url'], headers=headers)\n",
    "        #If status_code is not 429 then status is \"done\"\n",
    "        if response.status_code != 429:\n",
    "            url['result'] = response.status_code\n",
    "            url['status'] = 'done'\n",
    "            url['response'] = response\n",
    "            break\n",
    "        #If status_code is 429 then the program sleeps 2 seconds\n",
    "        else:\n",
    "            sleep(tt)\n",
    "    return url"
   ]
  },
  {
   "cell_type": "code",
   "execution_count": 7,
   "id": "f54c318d",
   "metadata": {},
   "outputs": [],
   "source": [
    "async def fetch_all(c, urls):\n",
    "    tasks = []\n",
    "    urlTasks = [{'url': i, 'result': None, 'status': 'new', 'response' : None} for i in urls]\n",
    "    #print(urlTasks)\n",
    "    for url in urlTasks:\n",
    "        task = asyncio.create_task(fetch(c,url))\n",
    "        tasks.append(task)\n",
    "    responses = await asyncio.gather(*tasks)\n",
    "    \n",
    "    return responses"
   ]
  },
  {
   "cell_type": "code",
   "execution_count": null,
   "id": "97bc8b25",
   "metadata": {},
   "outputs": [],
   "source": [
    "#List of html pages\n",
    "htmlList = []\n",
    "t = 1\n",
    "#Processing one hundred pages in one cycle\n",
    "for i in range(t, 1300):\n",
    "    urlList = [\"https://howlongtobeat.com/game/\" + str(i) for i in range(t, i*100 + 1) ] #range(1, 200 + 1) [38000] range(t, i * 2000 + 1)\n",
    "    #print(url)\n",
    "    print(urlList[0])\n",
    "    print(urlList[-1])\n",
    "    status = 'In Progress'\n",
    "    t = i * 100 + 1\n",
    "    while status == 'In Progress':\n",
    "        try:\n",
    "            async with httpx.AsyncClient() as c:\n",
    "            #r = requests.get(url, headers = headers)\n",
    "                responseList = await fetch_all(c, urlList)\n",
    "\n",
    "            for r in responseList:\n",
    "                if r['response'].status_code == 200:\n",
    "                    htmlList.append(r['response'].text)\n",
    "            print(len(htmlList))\n",
    "            status = 'Done'\n",
    "        except:\n",
    "            #If anything goes wrong then the programm sleeps 30 seconds\n",
    "            sleep(30)\n",
    "            print('sleep 30')\n",
    "    sleep(5)"
   ]
  },
  {
   "cell_type": "code",
   "execution_count": 10,
   "id": "1cc4b2cf",
   "metadata": {},
   "outputs": [],
   "source": [
    "#Preparing rows to insert into DB\n",
    "rowList = []\n",
    "for htmlString in htmlList:\n",
    "    try:\n",
    "        if htmlString.find(\"<h4>Main Story</h4><h5>\") >= 1:\n",
    "            \n",
    "            urlPre = htmlString[htmlString.find('<link rel=\"canonical\" href=\"') + 28:]\n",
    "            url = urlPre[:urlPre.find('\"')]\n",
    "            \n",
    "            #Getting a main story duration\n",
    "            mainStoryPre = htmlString[htmlString.find(\"<h4>Main Story</h4><h5>\") + 23:]\n",
    "            mainStory = mainStoryPre[:mainStoryPre.find(\"<\")].replace('½', '.5')\n",
    "            duration = float(mainStory[:mainStory.find(\" \")])\n",
    "            duration\n",
    "\n",
    "            #Getting a game name\n",
    "            gameNamePre = htmlString[htmlString.find(\"<title>How long is \") + 19:]\n",
    "            gameName = gameNamePre[:gameNamePre.find(\"?\")]\n",
    "            gameName\n",
    "\n",
    "            #Getting a release date\n",
    "            releaseDatePre1 = htmlString[htmlString.find( \"EU:</strong>\" ):]\n",
    "            releaseDatePre = releaseDatePre1[releaseDatePre1.find( \"<br/>\" ) + 5:]\n",
    "            releaseDateText = releaseDatePre[:releaseDatePre.find( \"<\" )]\n",
    "\n",
    "            #Getting month from the string\n",
    "            monthText = releaseDateText[:releaseDateText.find( \" \" )]\n",
    "            #Transforming a month name to a month number\n",
    "            month = datetime.datetime.strptime(monthText, '%B').month\n",
    "\n",
    "            if (releaseDateText.find( \",\" ) > 0):\n",
    "                #Getting day from the string\n",
    "                day = releaseDateText[releaseDateText.find( \" \" ) + 1:releaseDateText.find( \",\" )]\n",
    "\n",
    "                #Getting year from the string\n",
    "                year = releaseDateText[releaseDateText.find( \",\" ) + 2:]\n",
    "\n",
    "                #Forming date in the database format\n",
    "                releaseDate = \"'\" + year + \"-\" + str(month) + \"-\" + day + \"'\"\n",
    "                releaseDate\n",
    "\n",
    "\n",
    "                #Getting platforms\n",
    "                platformPre1 = htmlString[htmlString.find( \"<strong>Platform\" ):]\n",
    "                platformPre = platformPre1[platformPre1.find( \"<br/>\" ) + 5:]\n",
    "                platform = platformPre[:platformPre.find( \"<\" )]\n",
    "                platform\n",
    "\n",
    "\n",
    "                row = (gameName, platform, duration, releaseDateText, releaseDate, url)\n",
    "                rowList.append( row )\n",
    "    except:\n",
    "        x = 1"
   ]
  },
  {
   "cell_type": "code",
   "execution_count": 12,
   "id": "67ad1559",
   "metadata": {},
   "outputs": [],
   "source": [
    "#Forming INSERT string\n",
    "sqlString = \"insert into hltb.hltb_games(game_name, platform, duration, release_date_text, release_date, url) VALUES\"\n",
    "\n",
    "#Common.SqlEncode is used to avoid SQL injections\n",
    "for row in rowList:\n",
    "    sqlString = sqlString + \" (\" + Common.SqlEncode(row[0]) + \", \" + Common.SqlEncode(row[1])+ \", \" + Common.SqlEncode(row[2])+ \", \" + Common.SqlEncode(row[3])+ \", \" + Common.SqlEncode(row[4])+ \", \" + Common.SqlEncode(row[5])+ \"),\""
   ]
  },
  {
   "cell_type": "code",
   "execution_count": null,
   "id": "e8ef6e52",
   "metadata": {},
   "outputs": [],
   "source": [
    "#Removing a comma in the end of the string\n",
    "sqlString = sqlString[:-1]\n",
    "sqlString"
   ]
  },
  {
   "cell_type": "code",
   "execution_count": 14,
   "id": "2b99fb10",
   "metadata": {},
   "outputs": [],
   "source": [
    "#Executing SQL\n",
    "Common.SqlExecuteNonQuery(sqlString)"
   ]
  },
  {
   "cell_type": "markdown",
   "id": "f0b28eed",
   "metadata": {},
   "source": [
    "#### "
   ]
  }
 ],
 "metadata": {
  "kernelspec": {
   "display_name": "Python 3 (ipykernel)",
   "language": "python",
   "name": "python3"
  },
  "language_info": {
   "codemirror_mode": {
    "name": "ipython",
    "version": 3
   },
   "file_extension": ".py",
   "mimetype": "text/x-python",
   "name": "python",
   "nbconvert_exporter": "python",
   "pygments_lexer": "ipython3",
   "version": "3.9.12"
  }
 },
 "nbformat": 4,
 "nbformat_minor": 5
}
